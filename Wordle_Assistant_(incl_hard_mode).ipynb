{
  "nbformat": 4,
  "nbformat_minor": 0,
  "metadata": {
    "colab": {
      "name": "Wordle Assistant (incl hard mode).ipynb",
      "provenance": [],
      "authorship_tag": "ABX9TyPIvyc/eyoNYNEDOp35EHyU",
      "include_colab_link": true
    },
    "kernelspec": {
      "name": "python3",
      "display_name": "Python 3"
    },
    "language_info": {
      "name": "python"
    }
  },
  "cells": [
    {
      "cell_type": "markdown",
      "metadata": {
        "id": "view-in-github",
        "colab_type": "text"
      },
      "source": [
        "<a href=\"https://colab.research.google.com/github/sahaanirbannew/wordle-assistant/blob/main/Wordle_Assistant_(incl_hard_mode).ipynb\" target=\"_parent\"><img src=\"https://colab.research.google.com/assets/colab-badge.svg\" alt=\"Open In Colab\"/></a>"
      ]
    },
    {
      "cell_type": "markdown",
      "source": [
        "# About\n",
        "**Wordle Assistant.** <br>\n",
        "Developed by Anirban Saha<br>\n",
        "Twitter: @sahaanirban <br>\n",
        "Blog: www.anirbansaha.com <br>\n",
        "Version 1.0: 11 Feb 2022<br>\n",
        "Version 1.1: 12 Feb 2022<br>\n",
        "Changes in 1.1:<br> \n",
        "* Default mode = exploratory mode, at only 1 level. \n",
        "<br><br>\n",
        "Version 2.0: <br>\n",
        "Contributors: <br>\n",
        "\n"
      ],
      "metadata": {
        "id": "M6ev7ToJBRv8"
      }
    },
    {
      "cell_type": "markdown",
      "source": [
        "# Please do this at first."
      ],
      "metadata": {
        "id": "ioNyjpH68YZT"
      }
    },
    {
      "cell_type": "code",
      "source": [
        "dritte_word_list= {\"cigar\",\"rebut\",\"sissy\",\"humph\",\"awake\",\"blush\",\"focal\",\"evade\",\"naval\",\"serve\",\"heath\",\"dwarf\",\"model\",\"karma\",\"stink\",\"grade\",\"quiet\",\"bench\",\"abate\",\"feign\",\"major\",\"death\",\"fresh\",\"crust\",\"stool\",\"colon\",\"abase\",\"marry\",\"react\",\"batty\",\"pride\",\"floss\",\"helix\",\"croak\",\"staff\",\"paper\",\"unfed\",\"whelp\",\"trawl\",\"outdo\",\"adobe\",\"crazy\",\"sower\",\"repay\",\"digit\",\"crate\",\"cluck\",\"spike\",\"mimic\",\"pound\",\"maxim\",\"linen\",\"unmet\",\"flesh\",\"booby\",\"forth\",\"first\",\"stand\",\"belly\",\"ivory\",\"seedy\",\"print\",\"yearn\",\"drain\",\"bribe\",\"stout\",\"panel\",\"crass\",\"flume\",\"offal\",\"agree\",\"error\",\"swirl\",\"argue\",\"bleed\",\"delta\",\"flick\",\"totem\",\"wooer\",\"front\",\"shrub\",\"parry\",\"biome\",\"lapel\",\"start\",\"greet\",\"goner\",\"golem\",\"lusty\",\"loopy\",\"round\",\"audit\",\"lying\",\"gamma\",\"labor\",\"islet\",\"civic\",\"forge\",\"corny\",\"moult\",\"basic\",\"salad\",\"agate\",\"spicy\",\"spray\",\"essay\",\"fjord\",\"spend\",\"kebab\",\"guild\",\"aback\",\"motor\",\"alone\",\"hatch\",\"hyper\",\"thumb\",\"dowry\",\"ought\",\"belch\",\"dutch\",\"pilot\",\"tweed\",\"comet\",\"jaunt\",\"enema\",\"steed\",\"abyss\",\"growl\",\"fling\",\"dozen\",\"boozy\",\"erode\",\"world\",\"gouge\",\"click\",\"briar\",\"great\",\"altar\",\"pulpy\",\"blurt\",\"coast\",\"duchy\",\"groin\",\"fixer\",\"group\",\"rogue\",\"badly\",\"smart\",\"pithy\",\"gaudy\",\"chill\",\"heron\",\"vodka\",\"finer\",\"surer\",\"radio\",\"rouge\",\"perch\",\"retch\",\"wrote\",\"clock\",\"tilde\",\"store\",\"prove\",\"bring\",\"solve\",\"cheat\",\"grime\",\"exult\",\"usher\",\"epoch\",\"triad\",\"break\",\"rhino\",\"viral\",\"conic\",\"masse\",\"sonic\",\"vital\",\"trace\",\"using\",\"peach\",\"champ\",\"baton\",\"brake\",\"pluck\",\"craze\",\"gripe\",\"weary\",\"picky\",\"acute\",\"ferry\",\"aside\",\"tapir\",\"troll\",\"unify\",\"rebus\",\"boost\",\"truss\",\"siege\",\"tiger\",\"banal\",\"slump\",\"crank\",\"gorge\",\"query\",\"drink\",\"favor\",\"abbey\",\"tangy\",\"panic\",\"solar\",\"shire\",\"proxy\",\"point\",\"robot\",\"prick\",\"wince\",\"crimp\",\"knoll\",\"sugar\",\"whack\",\"mount\",\"perky\",\"could\",\"wrung\",\"light\",\"those\",\"moist\",\"shard\",\"pleat\",\"aloft\",\"skill\",\"elder\",\"frame\",\"humor\",\"pause\",\"ulcer\",\"ultra\",\"robin\",\"cynic\",\"agora\",\"aroma\",\"caulk\",\"shake\",\"pupal\",\"dodge\",\"swill\",\"tacit\",\"other\",\"thorn\",\"trove\",\"bloke\",\"vivid\",\"spill\",\"chant\",\"choke\",\"rupee\",\"nasty\",\"mourn\",\"ahead\",\"brine\",\"cloth\",\"hoard\",\"sweet\",\"month\",\"lapse\",\"watch\",\"today\",\"focus\",\"smelt\",\"tease\",\"cater\",\"movie\",\"lynch\",\"saute\",\"allow\",\"renew\",\"their\",\"slosh\",\"purge\",\"chest\",\"depot\",\"epoxy\",\"nymph\",\"found\",\"shall\",\"harry\",\"stove\",\"lowly\",\"snout\",\"trope\",\"fewer\",\"shawl\",\"natal\",\"fibre\",\"comma\",\"foray\",\"scare\",\"stair\",\"black\",\"squad\",\"royal\",\"chunk\",\"mince\",\"slave\",\"shame\",\"cheek\",\"ample\",\"flair\",\"foyer\",\"cargo\",\"oxide\",\"plant\",\"olive\",\"inert\",\"askew\",\"heist\",\"shown\",\"zesty\",\"hasty\",\"trash\",\"fella\",\"larva\",\"forgo\",\"story\",\"hairy\",\"train\",\"homer\",\"badge\",\"midst\",\"canny\",\"fetus\",\"butch\",\"farce\",\"slung\",\"tipsy\",\"metal\",\"yield\",\"delve\",\"being\",\"scour\",\"glass\",\"gamer\",\"scrap\",\"money\",\"hinge\",\"album\",\"vouch\",\"asset\",\"tiara\",\"crept\",\"bayou\",\"atoll\",\"manor\",\"creak\",\"showy\",\"phase\",\"froth\",\"depth\",\"gloom\",\"flood\",\"trait\",\"girth\",\"piety\",\"payer\",\"goose\",\"float\",\"donor\",\"atone\",\"primo\",\"apron\",\"blown\",\"cacao\",\"loser\",\"input\",\"gloat\",\"awful\",\"brink\",\"smite\",\"beady\",\"rusty\",\"retro\",\"droll\",\"gawky\",\"hutch\",\"pinto\",\"gaily\",\"egret\",\"lilac\",\"sever\",\"field\",\"fluff\",\"hydro\",\"flack\",\"agape\",\"wench\",\"voice\",\"stead\",\"stalk\",\"berth\",\"madam\",\"night\",\"bland\",\"liver\",\"wedge\",\"augur\",\"roomy\",\"wacky\",\"flock\",\"angry\",\"bobby\",\"trite\",\"aphid\",\"tryst\",\"midge\",\"power\",\"elope\",\"cinch\",\"motto\",\"stomp\",\"upset\",\"bluff\",\"cramp\",\"quart\",\"coyly\",\"youth\",\"rhyme\",\"buggy\",\"alien\",\"smear\",\"unfit\",\"patty\",\"cling\",\"glean\",\"label\",\"hunky\",\"khaki\",\"poker\",\"gruel\",\"twice\",\"twang\",\"shrug\",\"treat\",\"unlit\",\"waste\",\"merit\",\"woven\",\"octal\",\"needy\",\"clown\",\"widow\",\"irony\",\"ruder\",\"gauze\",\"chief\",\"onset\",\"prize\",\"fungi\",\"charm\",\"gully\",\"inter\",\"whoop\",\"taunt\",\"leery\",\"class\",\"theme\",\"lofty\",\"tibia\",\"booze\",\"alpha\",\"thyme\",\"eclat\",\"doubt\",\"parer\",\"chute\",\"stick\",\"trice\",\"alike\",\"sooth\",\"recap\",\"saint\",\"liege\",\"glory\",\"grate\",\"admit\",\"brisk\",\"soggy\",\"usurp\",\"scald\",\"scorn\",\"leave\",\"twine\",\"sting\",\"bough\",\"marsh\",\"sloth\",\"dandy\",\"vigor\",\"howdy\",\"enjoy\",\"valid\",\"ionic\",\"equal\",\"unset\",\"floor\",\"catch\",\"spade\",\"stein\",\"exist\",\"quirk\",\"denim\",\"grove\",\"spiel\",\"mummy\",\"fault\",\"foggy\",\"flout\",\"carry\",\"sneak\",\"libel\",\"waltz\",\"aptly\",\"piney\",\"inept\",\"aloud\",\"photo\",\"dream\",\"stale\",\"vomit\",\"ombre\",\"fanny\",\"unite\",\"snarl\",\"baker\",\"there\",\"glyph\",\"pooch\",\"hippy\",\"spell\",\"folly\",\"louse\",\"gulch\",\"vault\",\"godly\",\"threw\",\"fleet\",\"grave\",\"inane\",\"shock\",\"crave\",\"spite\",\"valve\",\"skimp\",\"claim\",\"rainy\",\"musty\",\"pique\",\"daddy\",\"quasi\",\"arise\",\"aging\",\"valet\",\"opium\",\"avert\",\"stuck\",\"recut\",\"mulch\",\"genre\",\"plume\",\"rifle\",\"count\",\"incur\",\"total\",\"wrest\",\"mocha\",\"deter\",\"study\",\"lover\",\"safer\",\"rivet\",\"funny\",\"smoke\",\"mound\",\"undue\",\"sedan\",\"pagan\",\"swine\",\"guile\",\"gusty\",\"equip\",\"tough\",\"canoe\",\"chaos\",\"covet\",\"human\",\"udder\",\"lunch\",\"blast\",\"stray\",\"manga\",\"melee\",\"lefty\",\"quick\",\"paste\",\"given\",\"octet\",\"risen\",\"groan\",\"leaky\",\"grind\",\"carve\",\"loose\",\"sadly\",\"spilt\",\"apple\",\"slack\",\"honey\",\"final\",\"sheen\",\"eerie\",\"minty\",\"slick\",\"derby\",\"wharf\",\"spelt\",\"coach\",\"erupt\",\"singe\",\"price\",\"spawn\",\"fairy\",\"jiffy\",\"filmy\",\"stack\",\"chose\",\"sleep\",\"ardor\",\"nanny\",\"niece\",\"woozy\",\"handy\",\"grace\",\"ditto\",\"stank\",\"cream\",\"usual\",\"diode\",\"valor\",\"angle\",\"ninja\",\"muddy\",\"chase\",\"reply\",\"prone\",\"spoil\",\"heart\",\"shade\",\"diner\",\"arson\",\"onion\",\"sleet\",\"dowel\",\"couch\",\"palsy\",\"bowel\",\"smile\",\"evoke\",\"creek\",\"lance\",\"eagle\",\"idiot\",\"siren\",\"built\",\"embed\",\"award\",\"dross\",\"annul\",\"goody\",\"frown\",\"patio\",\"laden\",\"humid\",\"elite\",\"lymph\",\"edify\",\"might\",\"reset\",\"visit\",\"gusto\",\"purse\",\"vapor\",\"crock\",\"write\",\"sunny\",\"loath\",\"chaff\",\"slide\",\"queer\",\"venom\",\"stamp\",\"sorry\",\"still\",\"acorn\",\"aping\",\"pushy\",\"tamer\",\"hater\",\"mania\",\"awoke\",\"brawn\",\"swift\",\"exile\",\"birch\",\"lucky\",\"freer\",\"risky\",\"ghost\",\"plier\",\"lunar\",\"winch\",\"snare\",\"nurse\",\"house\",\"borax\",\"nicer\",\"lurch\",\"exalt\",\"about\",\"savvy\",\"toxin\",\"tunic\",\"pried\",\"inlay\",\"chump\",\"lanky\",\"cress\",\"eater\",\"elude\",\"cycle\",\"kitty\",\"boule\",\"moron\",\"tenet\",\"place\",\"lobby\",\"plush\",\"vigil\",\"index\",\"blink\",\"clung\",\"qualm\",\"croup\",\"clink\",\"juicy\",\"stage\",\"decay\",\"nerve\",\"flier\",\"shaft\",\"crook\",\"clean\",\"china\",\"ridge\",\"vowel\",\"gnome\",\"snuck\",\"icing\",\"spiny\",\"rigor\",\"snail\",\"flown\",\"rabid\",\"prose\",\"thank\",\"poppy\",\"budge\",\"fiber\",\"moldy\",\"dowdy\",\"kneel\",\"track\",\"caddy\",\"quell\",\"dumpy\",\"paler\",\"swore\",\"rebar\",\"scuba\",\"splat\",\"flyer\",\"horny\",\"mason\",\"doing\",\"ozone\",\"amply\",\"molar\",\"ovary\",\"beset\",\"queue\",\"cliff\",\"magic\",\"truce\",\"sport\",\"fritz\",\"edict\",\"twirl\",\"verse\",\"llama\",\"eaten\",\"range\",\"whisk\",\"hovel\",\"rehab\",\"macaw\",\"sigma\",\"spout\",\"verve\",\"sushi\",\"dying\",\"fetid\",\"brain\",\"buddy\",\"thump\",\"scion\",\"candy\",\"chord\",\"basin\",\"march\",\"crowd\",\"arbor\",\"gayly\",\"musky\",\"stain\",\"dally\",\"bless\",\"bravo\",\"stung\",\"title\",\"ruler\",\"kiosk\",\"blond\",\"ennui\",\"layer\",\"fluid\",\"tatty\",\"score\",\"cutie\",\"zebra\",\"barge\",\"matey\",\"bluer\",\"aider\",\"shook\",\"river\",\"privy\",\"betel\",\"frisk\",\"bongo\",\"begun\",\"azure\",\"weave\",\"genie\",\"sound\",\"glove\",\"braid\",\"scope\",\"wryly\",\"rover\",\"assay\",\"ocean\",\"bloom\",\"irate\",\"later\",\"woken\",\"silky\",\"wreck\",\"dwelt\",\"slate\",\"smack\",\"solid\",\"amaze\",\"hazel\",\"wrist\",\"jolly\",\"globe\",\"flint\",\"rouse\",\"civil\",\"vista\",\"relax\",\"cover\",\"alive\",\"beech\",\"jetty\",\"bliss\",\"vocal\",\"often\",\"dolly\",\"eight\",\"joker\",\"since\",\"event\",\"ensue\",\"shunt\",\"diver\",\"poser\",\"worst\",\"sweep\",\"alley\",\"creed\",\"anime\",\"leafy\",\"bosom\",\"dunce\",\"stare\",\"pudgy\",\"waive\",\"choir\",\"stood\",\"spoke\",\"outgo\",\"delay\",\"bilge\",\"ideal\",\"clasp\",\"seize\",\"hotly\",\"laugh\",\"sieve\",\"block\",\"meant\",\"grape\",\"noose\",\"hardy\",\"shied\",\"drawl\",\"daisy\",\"putty\",\"strut\",\"burnt\",\"tulip\",\"crick\",\"idyll\",\"vixen\",\"furor\",\"geeky\",\"cough\",\"naive\",\"shoal\",\"stork\",\"bathe\",\"aunty\",\"check\",\"prime\",\"brass\",\"outer\",\"furry\",\"razor\",\"elect\",\"evict\",\"imply\",\"demur\",\"quota\",\"haven\",\"cavil\",\"swear\",\"crump\",\"dough\",\"gavel\",\"wagon\",\"salon\",\"nudge\",\"harem\",\"pitch\",\"sworn\",\"pupil\",\"excel\",\"stony\",\"cabin\",\"unzip\",\"queen\",\"trout\",\"polyp\",\"earth\",\"storm\",\"until\",\"taper\",\"enter\",\"child\",\"adopt\",\"minor\",\"fatty\",\"husky\",\"brave\",\"filet\",\"slime\",\"glint\",\"tread\",\"steal\",\"regal\",\"guest\",\"every\",\"murky\",\"share\",\"spore\",\"hoist\",\"buxom\",\"inner\",\"otter\",\"dimly\",\"level\",\"sumac\",\"donut\",\"stilt\",\"arena\",\"sheet\",\"scrub\",\"fancy\",\"slimy\",\"pearl\",\"silly\",\"porch\",\"dingo\",\"sepia\",\"amble\",\"shady\",\"bread\",\"friar\",\"reign\",\"dairy\",\"quill\",\"cross\",\"brood\",\"tuber\",\"shear\",\"posit\",\"blank\",\"villa\",\"shank\",\"piggy\",\"freak\",\"which\",\"among\",\"fecal\",\"shell\",\"would\",\"algae\",\"large\",\"rabbi\",\"agony\",\"amuse\",\"bushy\",\"copse\",\"swoon\",\"knife\",\"pouch\",\"ascot\",\"plane\",\"crown\",\"urban\",\"snide\",\"relay\",\"abide\",\"viola\",\"rajah\",\"straw\",\"dilly\",\"crash\",\"amass\",\"third\",\"trick\",\"tutor\",\"woody\",\"blurb\",\"grief\",\"disco\",\"where\",\"sassy\",\"beach\",\"sauna\",\"comic\",\"clued\",\"creep\",\"caste\",\"graze\",\"snuff\",\"frock\",\"gonad\",\"drunk\",\"prong\",\"lurid\",\"steel\",\"halve\",\"buyer\",\"vinyl\",\"utile\",\"smell\",\"adage\",\"worry\",\"tasty\",\"local\",\"trade\",\"finch\",\"ashen\",\"modal\",\"gaunt\",\"clove\",\"enact\",\"adorn\",\"roast\",\"speck\",\"sheik\",\"missy\",\"grunt\",\"snoop\",\"party\",\"touch\",\"mafia\",\"emcee\",\"array\",\"south\",\"vapid\",\"jelly\",\"skulk\",\"angst\",\"tubal\",\"lower\",\"crest\",\"sweat\",\"cyber\",\"adore\",\"tardy\",\"swami\",\"notch\",\"groom\",\"roach\",\"hitch\",\"young\",\"align\",\"ready\",\"frond\",\"strap\",\"puree\",\"realm\",\"venue\",\"swarm\",\"offer\",\"seven\",\"dryer\",\"diary\",\"dryly\",\"drank\",\"acrid\",\"heady\",\"theta\",\"junto\",\"pixie\",\"quoth\",\"bonus\",\"shalt\",\"penne\",\"amend\",\"datum\",\"build\",\"piano\",\"shelf\",\"lodge\",\"suing\",\"rearm\",\"coral\",\"ramen\",\"worth\",\"psalm\",\"infer\",\"overt\",\"mayor\",\"ovoid\",\"glide\",\"usage\",\"poise\",\"randy\",\"chuck\",\"prank\",\"fishy\",\"tooth\",\"ether\",\"drove\",\"idler\",\"swath\",\"stint\",\"while\",\"begat\",\"apply\",\"slang\",\"tarot\",\"radar\",\"credo\",\"aware\",\"canon\",\"shift\",\"timer\",\"bylaw\",\"serum\",\"three\",\"steak\",\"iliac\",\"shirk\",\"blunt\",\"puppy\",\"penal\",\"joist\",\"bunny\",\"shape\",\"beget\",\"wheel\",\"adept\",\"stunt\",\"stole\",\"topaz\",\"chore\",\"fluke\",\"afoot\",\"bloat\",\"bully\",\"dense\",\"caper\",\"sneer\",\"boxer\",\"jumbo\",\"lunge\",\"space\",\"avail\",\"short\",\"slurp\",\"loyal\",\"flirt\",\"pizza\",\"conch\",\"tempo\",\"droop\",\"plate\",\"bible\",\"plunk\",\"afoul\",\"savoy\",\"steep\",\"agile\",\"stake\",\"dwell\",\"knave\",\"beard\",\"arose\",\"motif\",\"smash\",\"broil\",\"glare\",\"shove\",\"baggy\",\"mammy\",\"swamp\",\"along\",\"rugby\",\"wager\",\"quack\",\"squat\",\"snaky\",\"debit\",\"mange\",\"skate\",\"ninth\",\"joust\",\"tramp\",\"spurn\",\"medal\",\"micro\",\"rebel\",\"flank\",\"learn\",\"nadir\",\"maple\",\"comfy\",\"remit\",\"gruff\",\"ester\",\"least\",\"mogul\",\"fetch\",\"cause\",\"oaken\",\"aglow\",\"meaty\",\"gaffe\",\"shyly\",\"racer\",\"prowl\",\"thief\",\"stern\",\"poesy\",\"rocky\",\"tweet\",\"waist\",\"spire\",\"grope\",\"havoc\",\"patsy\",\"truly\",\"forty\",\"deity\",\"uncle\",\"swish\",\"giver\",\"preen\",\"bevel\",\"lemur\",\"draft\",\"slope\",\"annoy\",\"lingo\",\"bleak\",\"ditty\",\"curly\",\"cedar\",\"dirge\",\"grown\",\"horde\",\"drool\",\"shuck\",\"crypt\",\"cumin\",\"stock\",\"gravy\",\"locus\",\"wider\",\"breed\",\"quite\",\"chafe\",\"cache\",\"blimp\",\"deign\",\"fiend\",\"logic\",\"cheap\",\"elide\",\"rigid\",\"false\",\"renal\",\"pence\",\"rowdy\",\"shoot\",\"blaze\",\"envoy\",\"posse\",\"brief\",\"never\",\"abort\",\"mouse\",\"mucky\",\"sulky\",\"fiery\",\"media\",\"trunk\",\"yeast\",\"clear\",\"skunk\",\"scalp\",\"bitty\",\"cider\",\"koala\",\"duvet\",\"segue\",\"creme\",\"super\",\"grill\",\"after\",\"owner\",\"ember\",\"reach\",\"nobly\",\"empty\",\"speed\",\"gipsy\",\"recur\",\"smock\",\"dread\",\"merge\",\"burst\",\"kappa\",\"amity\",\"shaky\",\"hover\",\"carol\",\"snort\",\"synod\",\"faint\",\"haunt\",\"flour\",\"chair\",\"detox\",\"shrew\",\"tense\",\"plied\",\"quark\",\"burly\",\"novel\",\"waxen\",\"stoic\",\"jerky\",\"blitz\",\"beefy\",\"lyric\",\"hussy\",\"towel\",\"quilt\",\"below\",\"bingo\",\"wispy\",\"brash\",\"scone\",\"toast\",\"easel\",\"saucy\",\"value\",\"spice\",\"honor\",\"route\",\"sharp\",\"bawdy\",\"radii\",\"skull\",\"phony\",\"issue\",\"lager\",\"swell\",\"urine\",\"gassy\",\"trial\",\"flora\",\"upper\",\"latch\",\"wight\",\"brick\",\"retry\",\"holly\",\"decal\",\"grass\",\"shack\",\"dogma\",\"mover\",\"defer\",\"sober\",\"optic\",\"crier\",\"vying\",\"nomad\",\"flute\",\"hippo\",\"shark\",\"drier\",\"obese\",\"bugle\",\"tawny\",\"chalk\",\"feast\",\"ruddy\",\"pedal\",\"scarf\",\"cruel\",\"bleat\",\"tidal\",\"slush\",\"semen\",\"windy\",\"dusty\",\"sally\",\"igloo\",\"nerdy\",\"jewel\",\"shone\",\"whale\",\"hymen\",\"abuse\",\"fugue\",\"elbow\",\"crumb\",\"pansy\",\"welsh\",\"syrup\",\"terse\",\"suave\",\"gamut\",\"swung\",\"drake\",\"freed\",\"afire\",\"shirt\",\"grout\",\"oddly\",\"tithe\",\"plaid\",\"dummy\",\"broom\",\"blind\",\"torch\",\"enemy\",\"again\",\"tying\",\"pesky\",\"alter\",\"gazer\",\"noble\",\"ethos\",\"bride\",\"extol\",\"decor\",\"hobby\",\"beast\",\"idiom\",\"utter\",\"these\",\"sixth\",\"alarm\",\"erase\",\"elegy\",\"spunk\",\"piper\",\"scaly\",\"scold\",\"hefty\",\"chick\",\"sooty\",\"canal\",\"whiny\",\"slash\",\"quake\",\"joint\",\"swept\",\"prude\",\"heavy\",\"wield\",\"femme\",\"lasso\",\"maize\",\"shale\",\"screw\",\"spree\",\"smoky\",\"whiff\",\"scent\",\"glade\",\"spent\",\"prism\",\"stoke\",\"riper\",\"orbit\",\"cocoa\",\"guilt\",\"humus\",\"shush\",\"table\",\"smirk\",\"wrong\",\"noisy\",\"alert\",\"shiny\",\"elate\",\"resin\",\"whole\",\"hunch\",\"pixel\",\"polar\",\"hotel\",\"sword\",\"cleat\",\"mango\",\"rumba\",\"puffy\",\"filly\",\"billy\",\"leash\",\"clout\",\"dance\",\"ovate\",\"facet\",\"chili\",\"paint\",\"liner\",\"curio\",\"salty\",\"audio\",\"snake\",\"fable\",\"cloak\",\"navel\",\"spurt\",\"pesto\",\"balmy\",\"flash\",\"unwed\",\"early\",\"churn\",\"weedy\",\"stump\",\"lease\",\"witty\",\"wimpy\",\"spoof\",\"saner\",\"blend\",\"salsa\",\"thick\",\"warty\",\"manic\",\"blare\",\"squib\",\"spoon\",\"probe\",\"crepe\",\"knack\",\"force\",\"debut\",\"order\",\"haste\",\"teeth\",\"agent\",\"widen\",\"icily\",\"slice\",\"ingot\",\"clash\",\"juror\",\"blood\",\"abode\",\"throw\",\"unity\",\"pivot\",\"slept\",\"troop\",\"spare\",\"sewer\",\"parse\",\"morph\",\"cacti\",\"tacky\",\"spool\",\"demon\",\"moody\",\"annex\",\"begin\",\"fuzzy\",\"patch\",\"water\",\"lumpy\",\"admin\",\"omega\",\"limit\",\"tabby\",\"macho\",\"aisle\",\"skiff\",\"basis\",\"plank\",\"verge\",\"botch\",\"crawl\",\"lousy\",\"slain\",\"cubic\",\"raise\",\"wrack\",\"guide\",\"foist\",\"cameo\",\"under\",\"actor\",\"revue\",\"fraud\",\"harpy\",\"scoop\",\"climb\",\"refer\",\"olden\",\"clerk\",\"debar\",\"tally\",\"ethic\",\"cairn\",\"tulle\",\"ghoul\",\"hilly\",\"crude\",\"apart\",\"scale\",\"older\",\"plain\",\"sperm\",\"briny\",\"abbot\",\"rerun\",\"quest\",\"crisp\",\"bound\",\"befit\",\"drawn\",\"suite\",\"itchy\",\"cheer\",\"bagel\",\"guess\",\"broad\",\"axiom\",\"chard\",\"caput\",\"leant\",\"harsh\",\"curse\",\"proud\",\"swing\",\"opine\",\"taste\",\"lupus\",\"gumbo\",\"miner\",\"green\",\"chasm\",\"lipid\",\"topic\",\"armor\",\"brush\",\"crane\",\"mural\",\"abled\",\"habit\",\"bossy\",\"maker\",\"dusky\",\"dizzy\",\"lithe\",\"brook\",\"jazzy\",\"fifty\",\"sense\",\"giant\",\"surly\",\"legal\",\"fatal\",\"flunk\",\"began\",\"prune\",\"small\",\"slant\",\"scoff\",\"torus\",\"ninny\",\"covey\",\"viper\",\"taken\",\"moral\",\"vogue\",\"owing\",\"token\",\"entry\",\"booth\",\"voter\",\"chide\",\"elfin\",\"ebony\",\"neigh\",\"minim\",\"melon\",\"kneed\",\"decoy\",\"voila\",\"ankle\",\"arrow\",\"mushy\",\"tribe\",\"cease\",\"eager\",\"birth\",\"graph\",\"odder\",\"terra\",\"weird\",\"tried\",\"clack\",\"color\",\"rough\",\"weigh\",\"uncut\",\"ladle\",\"strip\",\"craft\",\"minus\",\"dicey\",\"titan\",\"lucid\",\"vicar\",\"dress\",\"ditch\",\"gypsy\",\"pasta\",\"taffy\",\"flame\",\"swoop\",\"aloof\",\"sight\",\"broke\",\"teary\",\"chart\",\"sixty\",\"wordy\",\"sheer\",\"leper\",\"nosey\",\"bulge\",\"savor\",\"clamp\",\"funky\",\"foamy\",\"toxic\",\"brand\",\"plumb\",\"dingy\",\"butte\",\"drill\",\"tripe\",\"bicep\",\"tenor\",\"krill\",\"worse\",\"drama\",\"hyena\",\"think\",\"ratio\",\"cobra\",\"basil\",\"scrum\",\"bused\",\"phone\",\"court\",\"camel\",\"proof\",\"heard\",\"angel\",\"petal\",\"pouty\",\"throb\",\"maybe\",\"fetal\",\"sprig\",\"spine\",\"shout\",\"cadet\",\"macro\",\"dodgy\",\"satyr\",\"rarer\",\"binge\",\"trend\",\"nutty\",\"leapt\",\"amiss\",\"split\",\"myrrh\",\"width\",\"sonar\",\"tower\",\"baron\",\"fever\",\"waver\",\"spark\",\"belie\",\"sloop\",\"expel\",\"smote\",\"baler\",\"above\",\"north\",\"wafer\",\"scant\",\"frill\",\"awash\",\"snack\",\"scowl\",\"frail\",\"drift\",\"limbo\",\"fence\",\"motel\",\"ounce\",\"wreak\",\"revel\",\"talon\",\"prior\",\"knelt\",\"cello\",\"flake\",\"debug\",\"anode\",\"crime\",\"salve\",\"scout\",\"imbue\",\"pinky\",\"stave\",\"vague\",\"chock\",\"fight\",\"video\",\"stone\",\"teach\",\"cleft\",\"frost\",\"prawn\",\"booty\",\"twist\",\"apnea\",\"stiff\",\"plaza\",\"ledge\",\"tweak\",\"board\",\"grant\",\"medic\",\"bacon\",\"cable\",\"brawl\",\"slunk\",\"raspy\",\"forum\",\"drone\",\"women\",\"mucus\",\"boast\",\"toddy\",\"coven\",\"tumor\",\"truer\",\"wrath\",\"stall\",\"steam\",\"axial\",\"purer\",\"daily\",\"trail\",\"niche\",\"mealy\",\"juice\",\"nylon\",\"plump\",\"merry\",\"flail\",\"papal\",\"wheat\",\"berry\",\"cower\",\"erect\",\"brute\",\"leggy\",\"snipe\",\"sinew\",\"skier\",\"penny\",\"jumpy\",\"rally\",\"umbra\",\"scary\",\"modem\",\"gross\",\"avian\",\"greed\",\"satin\",\"tonic\",\"parka\",\"sniff\",\"livid\",\"stark\",\"trump\",\"giddy\",\"reuse\",\"taboo\",\"avoid\",\"quote\",\"devil\",\"liken\",\"gloss\",\"gayer\",\"beret\",\"noise\",\"gland\",\"dealt\",\"sling\",\"rumor\",\"opera\",\"thigh\",\"tonga\",\"flare\",\"wound\",\"white\",\"bulky\",\"etude\",\"horse\",\"circa\",\"paddy\",\"inbox\",\"fizzy\",\"grain\",\"exert\",\"surge\",\"gleam\",\"belle\",\"salvo\",\"crush\",\"fruit\",\"sappy\",\"taker\",\"tract\",\"ovine\",\"spiky\",\"frank\",\"reedy\",\"filth\",\"spasm\",\"heave\",\"mambo\",\"right\",\"clank\",\"trust\",\"lumen\",\"borne\",\"spook\",\"sauce\",\"amber\",\"lathe\",\"carat\",\"corer\",\"dirty\",\"slyly\",\"affix\",\"alloy\",\"taint\",\"sheep\",\"kinky\",\"wooly\",\"mauve\",\"flung\",\"yacht\",\"fried\",\"quail\",\"brunt\",\"grimy\",\"curvy\",\"cagey\",\"rinse\",\"deuce\",\"state\",\"grasp\",\"milky\",\"bison\",\"graft\",\"sandy\",\"baste\",\"flask\",\"hedge\",\"girly\",\"swash\",\"boney\",\"coupe\",\"endow\",\"abhor\",\"welch\",\"blade\",\"tight\",\"geese\",\"miser\",\"mirth\",\"cloud\",\"cabal\",\"leech\",\"close\",\"tenth\",\"pecan\",\"droit\",\"grail\",\"clone\",\"guise\",\"ralph\",\"tango\",\"biddy\",\"smith\",\"mower\",\"payee\",\"serif\",\"drape\",\"fifth\",\"spank\",\"glaze\",\"allot\",\"truck\",\"kayak\",\"virus\",\"testy\",\"tepee\",\"fully\",\"zonal\",\"metro\",\"curry\",\"grand\",\"banjo\",\"axion\",\"bezel\",\"occur\",\"chain\",\"nasal\",\"gooey\",\"filer\",\"brace\",\"allay\",\"pubic\",\"raven\",\"plead\",\"gnash\",\"flaky\",\"munch\",\"dully\",\"eking\",\"thing\",\"slink\",\"hurry\",\"theft\",\"shorn\",\"pygmy\",\"ranch\",\"wring\",\"lemon\",\"shore\",\"mamma\",\"froze\",\"newer\",\"style\",\"moose\",\"antic\",\"drown\",\"vegan\",\"chess\",\"guppy\",\"union\",\"lever\",\"lorry\",\"image\",\"cabby\",\"druid\",\"exact\",\"truth\",\"dopey\",\"spear\",\"cried\",\"chime\",\"crony\",\"stunk\",\"timid\",\"batch\",\"gauge\",\"rotor\",\"crack\",\"curve\",\"latte\",\"witch\",\"bunch\",\"repel\",\"anvil\",\"soapy\",\"meter\",\"broth\",\"madly\",\"dried\",\"scene\",\"known\",\"magma\",\"roost\",\"woman\",\"thong\",\"punch\",\"pasty\",\"downy\",\"knead\",\"whirl\",\"rapid\",\"clang\",\"anger\",\"drive\",\"goofy\",\"email\",\"music\",\"stuff\",\"bleep\",\"rider\",\"mecca\",\"folio\",\"setup\",\"verso\",\"quash\",\"fauna\",\"gummy\",\"happy\",\"newly\",\"fussy\",\"relic\",\"guava\",\"ratty\",\"fudge\",\"femur\",\"chirp\",\"forte\",\"alibi\",\"whine\",\"petty\",\"golly\",\"plait\",\"fleck\",\"felon\",\"gourd\",\"brown\",\"thrum\",\"ficus\",\"stash\",\"decry\",\"wiser\",\"junta\",\"visor\",\"daunt\",\"scree\",\"impel\",\"await\",\"press\",\"whose\",\"turbo\",\"stoop\",\"speak\",\"mangy\",\"eying\",\"inlet\",\"crone\",\"pulse\",\"mossy\",\"staid\",\"hence\",\"pinch\",\"teddy\",\"sully\",\"snore\",\"ripen\",\"snowy\",\"attic\",\"going\",\"leach\",\"mouth\",\"hound\",\"clump\",\"tonal\",\"bigot\",\"peril\",\"piece\",\"blame\",\"haute\",\"spied\",\"undid\",\"intro\",\"basal\",\"shine\",\"gecko\",\"rodeo\",\"guard\",\"steer\",\"loamy\",\"scamp\",\"scram\",\"manly\",\"hello\",\"vaunt\",\"organ\",\"feral\",\"knock\",\"extra\",\"condo\",\"adapt\",\"willy\",\"polka\",\"rayon\",\"skirt\",\"faith\",\"torso\",\"match\",\"mercy\",\"tepid\",\"sleek\",\"riser\",\"twixt\",\"peace\",\"flush\",\"catty\",\"login\",\"eject\",\"roger\",\"rival\",\"untie\",\"refit\",\"aorta\",\"adult\",\"judge\",\"rower\",\"artsy\",\"rural\",\"shave\"}\n",
        "\n",
        "curated_list={\"liter\",\"oscar\"}\n",
        "#Second Word List. We don't need this. But why not? \n",
        "#zweite_word_list=set({})\n",
        "#file1 = open('/content/A lot of words.txt', 'r')\n",
        "#Lines = file1.readlines()\n",
        "#for line in Lines:\n",
        "#  if line[0]==\"*\":\n",
        "#    zweite_word_list.add(line.split(\" \")[1].replace(\"\\n\",\"\"))\n",
        "\n",
        "#First Word List. We don't need this. But why not? \n",
        "word_list=set({})\n",
        "import requests\n",
        "from bs4 import BeautifulSoup\n",
        "URL = \"https://www.thefreedictionary.com/5-letter-words.htm\"\n",
        "r = requests.get(URL) \n",
        "soup = BeautifulSoup(r.content, 'html5lib')\n",
        "result = soup.find(class_=\"TCont\") \n",
        "result = result.find(\"ul\")\n",
        "for item in result:\n",
        "  word_list.add(item.get_text()) \n",
        "\n",
        "\n",
        "#Formulating the final word list\n",
        "#dritte_word_list = dritte_word_list.union(zweite_word_list)\n",
        "#dritte_word_list = dritte_word_list.union(word_list)\n",
        "#dritte_word_list = dritte_word_list.union(curated_list)"
      ],
      "metadata": {
        "id": "7mvDIFuOG82B"
      },
      "execution_count": 1,
      "outputs": []
    },
    {
      "cell_type": "markdown",
      "source": [
        "# Processing starts here \n"
      ],
      "metadata": {
        "id": "t_ONmD9R8c8D"
      }
    },
    {
      "cell_type": "code",
      "source": [
        "def get_prob(word,prob_list):\n",
        "  prob=1\n",
        "  letters=set(split(word))\n",
        "  for letter in letters:\n",
        "    prob = prob*prob_list[letter]\n",
        "  return prob\n",
        "\n",
        "def create_letter_probability_sorted(word_list):\n",
        "  letter_freq={}\n",
        "  letter_probability={}\n",
        "  for word in word_list: \n",
        "    letters=set(split(word))\n",
        "    for letter in letters:\n",
        "      if letter not in letter_freq:\n",
        "        letter_freq[letter]=1\n",
        "      else:\n",
        "        letter_freq[letter]+=1\n",
        "  \n",
        "  occurance=0\n",
        "  for key in letter_freq:\n",
        "    occurance = occurance + letter_freq[key]\n",
        "  \n",
        "  for key in letter_freq:\n",
        "    letter_probability[key] = letter_freq[key]/occurance\n",
        "  \n",
        "  letter_probability_sorted= dict(sorted(letter_probability.items(), key=lambda item: item[1],reverse=True))\n",
        "  return letter_probability_sorted\n",
        "\n",
        "def get_word_probability_list(word_set,prob_list): \n",
        "  prob_word_dict_try={}\n",
        "  for word in word_set:\n",
        "    no_unique_letters=len(set(split(word))) \n",
        "    prob_word=get_prob(word,prob_list)\n",
        "    prob_word_dict_try[word]=prob_word \n",
        "  prob_word_dict_sorted= dict(sorted(prob_word_dict_try.items(), key=lambda item: item[1],reverse=True))\n",
        "  return prob_word_dict_sorted"
      ],
      "metadata": {
        "id": "c9CnSqHofm5x"
      },
      "execution_count": 2,
      "outputs": []
    },
    {
      "cell_type": "code",
      "execution_count": 3,
      "metadata": {
        "id": "R1QHFjS7iuzx"
      },
      "outputs": [],
      "source": [
        "def split(word):\n",
        "    return [char for char in word]\n",
        "\n",
        "def find(s, ch):\n",
        "    return [i for i, ltr in enumerate(s) if ltr == ch] \n",
        "\n",
        "def try_new_word(input_word,dsnt_contain,word_p,nw_positions):\n",
        "  proceed = True\n",
        "  alphabets_in_input=split(input_word)\n",
        "  if len(alphabets_in_input)!=5: \n",
        "    return(False, \"Error: Not a 5 lettered word.\") \n",
        "\n",
        "  if proceed == True:\n",
        "    for elem in alphabets_in_input:\n",
        "      if elem in dsnt_contain: \n",
        "        return(False, \"Error: \"+elem+\" should not be in the proposed word.\") \n",
        "  \n",
        "  if proceed == True:\n",
        "    for key in word_p:\n",
        "      positions=find(input_word,key) \n",
        "      if word_p[key] not in positions:\n",
        "        return(False, \"Error: \"+key+\" does not confirm fixed position clause.\") \n",
        "  \n",
        "  if proceed == True:\n",
        "    for key in nw_positions:\n",
        "      if input_word.find(key) == -1:\n",
        "        return(False,\"Error: \"+key+\" does not exist in word. Should be there.\") \n",
        "      try:\n",
        "        if input_word.find(key) in nw_positions[key]:\n",
        "          return(False, \"Error: \"+key+\" does not confirm variable position clause.\") \n",
        "      except:\n",
        "        print(\"Problem\", input_word) \n",
        "  \n",
        "  return proceed, \"Success Text\"\n",
        "\n",
        "\n",
        "def update_criteria_using_input(input_sequence, does_not_contain,word_positions,not_word_positions): \n",
        "  nummer=0\n",
        "  bigrams=[]\n",
        "  try:\n",
        "    while nummer<10:\n",
        "        bigram=input_sequence[nummer:nummer+2]\n",
        "        bigrams.append(bigram)\n",
        "        if bigram[1] not in [\"!\",\"?\"]: nummer+=1\n",
        "        if bigram[1] in [\"!\",\"?\"]: nummer+=2\n",
        "  except:\n",
        "    r_variable = \"it is okay.\"\n",
        "\n",
        "  try:\n",
        "    index=0\n",
        "    for bigram in bigrams:\n",
        "      if len(bigram)>1:\n",
        "        if bigram[1]==\"!\": \n",
        "          word_positions[bigram[0]]=index \n",
        "        elif bigram[1]==\"?\": \n",
        "          if bigram[0] in not_word_positions:\n",
        "            not_word_positions[bigram[0]].append(index) \n",
        "          else: \n",
        "            not_word_positions[bigram[0]] = [index]\n",
        "        else:\n",
        "          if bigram[0] not in word_positions and bigram[0] not in not_word_positions:\n",
        "            does_not_contain.add(bigram[0])\n",
        "      elif len(bigram)>0 and len(bigram)<2 and bigram[0] not in [\"!\",\"?\"]:\n",
        "        if bigram[0] not in word_positions and bigram[0] not in not_word_positions:\n",
        "            does_not_contain.add(bigram[0])\n",
        "      index+=1\n",
        "\n",
        "  except:\n",
        "    print(bigrams)\n",
        "    print(\"Error: Unknown.\")\n",
        "  \n",
        "  return does_not_contain,word_positions,not_word_positions"
      ]
    },
    {
      "cell_type": "code",
      "source": [
        "def reduce_word_list(words_result_set,attempt_number,return_amount):\n",
        "  letter_prob_list = create_letter_probability_sorted(words_result_set)\n",
        "  word_prob_list = get_word_probability_list(words_result_set,letter_prob_list)\n",
        "  new_list=word_prob_list\n",
        "  if attempt_number<3 and len(words_result_set)>5:\n",
        "    highest_num_letters = 0\n",
        "    new_list={} \n",
        "    for key in word_prob_list:\n",
        "      num_letters=len(set(split(key)))\n",
        "      if num_letters> highest_num_letters:  highest_num_letters = num_letters\n",
        "    \n",
        "    for key in word_prob_list:\n",
        "      num_letters=len(set(split(key)))\n",
        "      if num_letters == highest_num_letters:\n",
        "        new_list[key]=word_prob_list[key]\n",
        "\n",
        "  return_array=[]\n",
        "  count=0\n",
        "  new_list_Arr= list(new_list.keys())\n",
        "  while count<return_amount and count<len(new_list): \n",
        "    return_array.append(new_list_Arr[count])\n",
        "    count+=1\n",
        "  return return_array "
      ],
      "metadata": {
        "id": "MKK2-iHboJaa"
      },
      "execution_count": 4,
      "outputs": []
    },
    {
      "cell_type": "markdown",
      "source": [
        "https://www.thefreedictionary.com/Word-Finder.htm"
      ],
      "metadata": {
        "id": "u9V0r28gyjMU"
      }
    },
    {
      "cell_type": "code",
      "source": [
        "def reduce_word_list_old(words_result_set): \n",
        "  word_u={}\n",
        "  highest=0\n",
        "  char_freq={}\n",
        "  used_keys=[]\n",
        "  return_words=[]\n",
        "\n",
        "  #collects the keys that are already discovered. \n",
        "  for key in word_positions:\n",
        "    used_keys.append(key)\n",
        "  for key in not_word_positions:\n",
        "    used_keys.append(key)\n",
        "\n",
        "  for word in words_result_set:\n",
        "    unique_letters=set(word) \n",
        "    if highest<len(unique_letters): highest =len(unique_letters)  \n",
        "    word_u[word]=len(unique_letters) \n",
        "\n",
        "  for word in words_result_set:\n",
        "    chars= split(word)\n",
        "    for char in chars:\n",
        "      if char not in used_keys: \n",
        "        if char not in char_freq: char_freq[char]=1\n",
        "        else: char_freq[char]+=1\n",
        "\n",
        "  char_freq = {k: v for k, v in sorted(char_freq.items(), key=lambda item: item[1], reverse=True)}\n",
        "  result = list(char_freq.keys())[0]\n",
        "  for word in words_result_set:\n",
        "    if word.find(result)>-1 and word_u[word]==highest: \n",
        "      return_words.append(word)\n",
        "\n",
        "  if len(return_words)<3: \n",
        "    for word in words_result_set:\n",
        "      if word.find(result)>-1 and word_u[word]==highest-1: \n",
        "        return_words.append(word)\n",
        "  return return_words"
      ],
      "metadata": {
        "id": "s7hwS4WbeF2r"
      },
      "execution_count": 5,
      "outputs": []
    },
    {
      "cell_type": "code",
      "source": [
        "def help_user():\n",
        "  print(\"We are sorry we ran out of vocabulary. But this information should help.\")\n",
        "  for key in not_word_positions:\n",
        "    print(key, \" is not in the following positions:\")\n",
        "    print(not_word_positions[key])\n",
        "  \n",
        "  for key in word_positions:\n",
        "    print(key, \" is in these positions:\")\n",
        "    print(word_positions[key])"
      ],
      "metadata": {
        "id": "EjfYBwa_r82T"
      },
      "execution_count": 6,
      "outputs": []
    },
    {
      "cell_type": "code",
      "source": [
        "def should_explore_mode(explore_mode, explore_mode_attempt_number): #exploreMode \n",
        "  if explore_mode == True and len(explore_mode_attempt_number)>1:\n",
        "    found_alphabets = len(word_positions) + len(not_word_positions)\n",
        "    new_test_list = set({})\n",
        "    #print(word_positions)\n",
        "    #print(not_word_positions)\n",
        "    #print(does_not_contain)\n",
        "    for key in word_positions:\n",
        "      new_test_list.add(key)\n",
        "    for key in not_word_positions:\n",
        "      new_test_list.add(key) \n",
        "    for key in does_not_contain:\n",
        "      new_test_list.add(key) \n",
        "    vowels={\"a\",\"e\",\"i\",\"o\",\"u\"}\n",
        "    if all(ele in new_test_list for ele in vowels) == True or found_alphabets > 3: \n",
        "      explore_mode = False\n",
        "      print(\"Info: Explore Mode is turned off.\")\n",
        "      #print(\"Either all vowels are used up OR we have found too many alphabets already.\")\n",
        "  return explore_mode"
      ],
      "metadata": {
        "id": "TZ2vZuI-0yjM"
      },
      "execution_count": 7,
      "outputs": []
    },
    {
      "cell_type": "markdown",
      "source": [
        "# Only Part to edit and USE.\n"
      ],
      "metadata": {
        "id": "Nyr9Gbj_I2hW"
      }
    },
    {
      "cell_type": "code",
      "source": [
        "###########################\n",
        "##### Change log. #########\n",
        "###########################\n",
        "# Version 1\n",
        "# Made Public on 11 Feb 2022.\n",
        "# Version 2\n",
        "# Change ID: #exploreMode \n",
        "# Made Public on 12 Feb 2022. \n",
        "# Blog post: https://www.anirbansaha.com/wordle-assistant/ \n",
        "###########################\n",
        "\n",
        "print(\"Info: Please enter 'stop' to stop the program from suggesting you words.\")\n",
        "agreement = [\"yes\", \"yea\", \"y\", \"ja\", \"yup\"]\n",
        "explore_mode = True\n",
        "does_not_contain = set({})\n",
        "word_positions={} \n",
        "not_word_positions={} \n",
        "print(\"Help: WA!S?TE. ! signifies Green. ? signifies Yellow.\")\n",
        "number_of_options=3 #default \n",
        "explore_mode_attempt_number=[] #exploreMode \n",
        "number_of_options = 3\n",
        "\n",
        "user_entry = \"yes\"\n",
        "attempt_number=1\n",
        "#Start of #exploreMode \n",
        "explore_mode_attempt_number=[1]\n",
        "hard_mode = input(\"Want hard mode? \")\n",
        "if hard_mode in agreement:\n",
        "  explore_mode = False\n",
        "\n",
        "print(\"Let's explore! ... \")\n",
        "while user_entry in agreement:\n",
        "  #print(\"point 1\")\n",
        "  explore_mode = should_explore_mode(explore_mode, explore_mode_attempt_number)\n",
        "\n",
        "  input_sequence = input(\"Enter Sequence: \")\n",
        "  \n",
        "  if input_sequence == \"stop\": \n",
        "    print(\"I hope you've got the correct answer!\")\n",
        "    break\n",
        "  \n",
        "  #Start of #exploreMode \n",
        "  #print(\"point 2\") \n",
        "  explore_mode = should_explore_mode(explore_mode, explore_mode_attempt_number)  \n",
        "  if explore_mode == True and attempt_number in explore_mode_attempt_number: \n",
        "    #print(\"Explore Mode is ON.\")  \n",
        "    #values come in the changed \"_new\" variables.\n",
        "    does_not_contain,word_positions,not_word_positions = update_criteria_using_input(input_sequence, does_not_contain,word_positions,not_word_positions)\n",
        "    \n",
        "    new_does_not_contain_bwn=set({})\n",
        "    for elem in does_not_contain:\n",
        "      new_does_not_contain_bwn.add(elem)\n",
        "    for elem in word_positions:\n",
        "      new_does_not_contain_bwn.add(elem)\n",
        "    for elem in not_word_positions:\n",
        "      new_does_not_contain_bwn.add(elem)\n",
        "\n",
        "    word_positions_new={}\n",
        "    not_word_positions_new ={} \n",
        "  else: \n",
        "    # End of #exploreMode  \n",
        "    does_not_contain,word_positions,not_word_positions = update_criteria_using_input(input_sequence, does_not_contain,word_positions,not_word_positions)\n",
        "    #print(\"point 3\")\n",
        "    explore_mode = should_explore_mode(explore_mode, explore_mode_attempt_number) \n",
        "  \n",
        "  words_result_set=set({}) \n",
        "  #Start of #exploreMode  \n",
        "  #print(\"point 4\")\n",
        "  explore_mode = should_explore_mode(explore_mode, explore_mode_attempt_number)\n",
        "  if explore_mode == True and attempt_number in explore_mode_attempt_number:\n",
        "    for word in dritte_word_list: \n",
        "      if try_new_word(word,new_does_not_contain_bwn,word_positions_new,not_word_positions_new)[0]==True:\n",
        "        words_result_set.add(word) \n",
        "    \n",
        "    #print(\"point 5\")\n",
        "    explore_mode = should_explore_mode(explore_mode, explore_mode_attempt_number)\n",
        "    #explore_mode = False \n",
        "  else: \n",
        "    for word in dritte_word_list: \n",
        "      if try_new_word(word,does_not_contain,word_positions,not_word_positions)[0]==True:\n",
        "        words_result_set.add(word)  \n",
        "    #End of #exploreMode   \n",
        "  \n",
        "  if len(words_result_set)==0: \n",
        "    print(\"We have run out of words. Sorry to disappoint you.\")\n",
        "    help_user()\n",
        "    break\n",
        "  \n",
        "  if len(words_result_set)==1: \n",
        "    print(\"Tip: This should be the answer!\")\n",
        "    user_entry = \"no\"\n",
        "  \n",
        "  if len(words_result_set)<4 and len(words_result_set)>1:\n",
        "    print(\"Info: We are very close to the answer!\")\n",
        "\n",
        "  top_result=reduce_word_list(words_result_set,attempt_number,number_of_options) \n",
        "  print(\"Try: \",top_result)\n",
        "  attempt_number+=1 \n",
        "  if user_entry == \"no\": print(\"I hope you've got the correct answer!\")"
      ],
      "metadata": {
        "colab": {
          "base_uri": "https://localhost:8080/"
        },
        "id": "aeSli0Rj7Vcv",
        "outputId": "a4af7100-2d7d-4fbf-d933-2f9bdaf0f1fd"
      },
      "execution_count": 13,
      "outputs": [
        {
          "output_type": "stream",
          "name": "stdout",
          "text": [
            "Info: Please enter 'stop' to stop the program from suggesting you words.\n",
            "Help: WA!S?TE. ! signifies Green. ? signifies Yellow.\n",
            "Want hard mode? yes\n",
            "Let's explore! ... \n",
            "Enter Sequence: crane\n",
            "Try:  ['lousy', 'lusty', 'hotly']\n",
            "Enter Sequence: l?ous?y\n",
            "Try:  ['spilt', 'split']\n",
            "Enter Sequence: s!pi!l!t\n",
            "Info: We are very close to the answer!\n",
            "Try:  ['skill', 'swill']\n",
            "Enter Sequence: stop\n",
            "I hope you've got the correct answer!\n"
          ]
        }
      ]
    }
  ]
}